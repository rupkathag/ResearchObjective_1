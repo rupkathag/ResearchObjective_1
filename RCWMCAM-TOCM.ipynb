{
  "nbformat": 4,
  "nbformat_minor": 0,
  "metadata": {
    "colab": {
      "provenance": []
    },
    "kernelspec": {
      "name": "python3",
      "display_name": "Python 3"
    },
    "language_info": {
      "name": "python"
    }
  },
  "cells": [
    {
      "cell_type": "code",
      "execution_count": 1,
      "metadata": {
        "id": "aqBgYkgARlTQ"
      },
      "outputs": [],
      "source": [
        "import pandas as pd\n",
        "import numpy as np\n",
        "import random\n",
        "import copy\n",
        "import math\n",
        "from collections import defaultdict\n",
        "\n",
        "randomlist = []\n",
        "df_demand = {}\n",
        "random.seed(21) # Use the same random seed\n",
        "for i in range(0,50):   # 20 depots\n",
        "    n = random.randint(50,150) # Depot Capacity\n",
        "    randomlist.append(n)\n",
        "\n",
        "for i in range(50):\n",
        "    df_demand['D'+str(i+1)] = randomlist[i]\n",
        "\n",
        "sum = 0\n",
        "for (k,v) in df_demand.items():\n",
        "    sum = sum + v\n",
        "\n",
        "df_supply = {}\n",
        "for i in range(sum):\n",
        "    df_supply[i] = 1.0\n",
        "\n",
        "np.random.seed(21) # Use the same random seed\n",
        "df_dkm = pd.DataFrame(np.random.uniform(0.5,60, size=(sum,50))).astype(float)\n",
        "\n",
        "random.seed(21) # Use the same random seed\n",
        "age_b = []\n",
        "for i in range(sum):\n",
        "    n = random.randint(1,3) #Only to generate integer values inclusive of 1 & 3\n",
        "    age_b.append(n)\n",
        "\n",
        "age = {}\n",
        "for i in range(len(age_b)):\n",
        "    age[i] = age_b[i]\n",
        "\n",
        "kpl = []\n",
        "co2 = []\n",
        "random.seed(21) # Use the same random seed\n",
        "for (k,v) in age.items():\n",
        "    if (v==1):\n",
        "        n = random.uniform(5.1,6)\n",
        "        m = round(random.uniform(515, 524), 2)\n",
        "        kpl.append(n)\n",
        "        co2.append(m)\n",
        "    if (v==2):\n",
        "        n = random.uniform(4.1,5)\n",
        "        m = round(random.uniform(525, 534), 2)\n",
        "        kpl.append(n)\n",
        "        co2.append(m)\n",
        "    if (v==3):\n",
        "        n = random.uniform(3.1,4)\n",
        "        m = round(random.uniform(535, 540), 2)\n",
        "        kpl.append(n)\n",
        "        co2.append(m)\n",
        "\n",
        "fc_kpl = {}\n",
        "for i in range(sum):\n",
        "    fc_kpl[i] =(111/ kpl[i])\n",
        "\n",
        "co2_c = {}\n",
        "for i in range(sum):\n",
        "    co2_c[i] =(0.00118642*co2[i])\n",
        "\n",
        "random.seed(21) # Use the same random seed\n",
        "doc = {}\n",
        "for i in range(0,50):\n",
        "    n = random.uniform(50,100)\n",
        "    doc[i] = n\n",
        "\n",
        "df_tdkom = pd.DataFrame(np.zeros(df_dkm.shape))\n",
        "for i in range(len(df_dkm.columns)):\n",
        "    for j in range(len(df_dkm.index)):\n",
        "        df_tdkom[i][j] = df_dkm[i][j]*fc_kpl[j] + df_dkm[i][j]*co2_c[j] + doc[i]\n",
        "#df_tdkom\n",
        "\n",
        "df_tdkom.columns = [(\"D\"+str(i)) for i in range(1,51)]\n",
        "\n",
        "dk = df_tdkom.transpose()\n",
        "costs_t = dk.to_dict()\n",
        "colsn = sorted(df_demand.keys())\n",
        "\n",
        "# print(supply['S1'])\n",
        "# break\n",
        "\n",
        "costs1=copy.deepcopy(costs_t)\n",
        "costs2=copy.deepcopy(costs_t)\n",
        "costs3=copy.deepcopy(costs_t)\n",
        "for i in df_supply:\n",
        "    mi=min(costs_t[i].values())\n",
        "    # print(costs[i])\n",
        "    # print(mi)\n",
        "    for j in costs2[i]:\n",
        "        costs2[i][j]-=mi\n",
        "# print(costs2)\n",
        "for i in df_demand :\n",
        "    mi=10000\n",
        "    for j in df_supply:\n",
        "        if costs_t[j][i]<mi :\n",
        "            mi=costs_t[j][i]\n",
        "    for j in df_supply:\n",
        "        costs3[j][i]=costs3[j][i]-mi\n",
        "# print(costs3)\n",
        "\n",
        "for i in df_demand:\n",
        "    for j in df_supply:\n",
        "        costs_t[j][i]= costs2[j][i]+costs3[j][i]\n",
        "# print(costs_t)"
      ]
    },
    {
      "cell_type": "code",
      "source": [
        "res = dict((k, defaultdict(int)) for k in costs_t)\n",
        "\n",
        "g = {}\n",
        "for x in df_supply:\n",
        "    # print(x)\n",
        "    # print(costs_t[x])\n",
        "    g[x] = sorted(costs_t[x].keys(), key=lambda g: costs_t[x][g])\n",
        "for x in df_demand:\n",
        "    g[x] = sorted(costs_t.keys(), key=lambda g: costs_t[g][x])\n",
        "\n",
        "while g:\n",
        "    d = {}\n",
        "    # print(df_supply,dic)\n",
        "    for x in df_demand:\n",
        "        d[x] = (costs_t[g[x][1]][x] - costs_t[g[x][0]][x])*costs_t[g[x][0]][x]*min(df_demand[x],df_supply[g[x][0]]) if len(g[x]) > 1 else (costs_t[g[x][0]][x]*costs_t[g[x][0]][x])*min(df_demand[x],df_supply[g[x][0]])\n",
        "    s = {}\n",
        "    for x in df_supply:\n",
        "        s[x] = (costs_t[x][g[x][1]] - costs_t[x][g[x][0]])*costs_t[x][g[x][0]]*min(df_supply[x],df_demand[g[x][0]])  if len(g[x]) > 1 else costs_t[x][g[x][0]]*costs_t[x][g[x][0]]*min(df_supply[x],df_demand[g[x][0]])\n",
        "\n",
        "    f = max(d, key=lambda n: d[n])\n",
        "    t = max(s, key=lambda n: s[n])\n",
        "\n",
        "\n",
        "    t, f = (f, g[f][0]) if d[f] >= s[t] else (g[t][0], t)\n",
        "\n",
        "\n",
        "    v = min(df_supply[f], df_demand[t])\n",
        "    # print(f,t)\n",
        "    # print(v)\n",
        "    res[f][t] += v\n",
        "    df_demand[t] -= v\n",
        "\n",
        "    if df_demand[t] == 0:\n",
        "        for k, n in df_supply.items():\n",
        "            if n != 0:\n",
        "                g[k].remove(t)\n",
        "        del g[t]\n",
        "        del df_demand[t]\n",
        "    df_supply[f] -= v\n",
        "    if df_supply[f] == 0:\n",
        "        for k, n in df_demand.items():\n",
        "            if n != 0:\n",
        "                g[k].remove(f)\n",
        "        del g[f]\n",
        "        del df_supply[f]\n"
      ],
      "metadata": {
        "id": "IfxQWa1GSfm1"
      },
      "execution_count": null,
      "outputs": []
    },
    {
      "cell_type": "code",
      "source": [
        "# print(\"G\",g)\n",
        "cost = 0\n",
        "# cols = sorted(df_demand.keys())\n",
        "# print(costs)\n",
        "for g in sorted(costs1):\n",
        "    # print (g, \" \",)\n",
        "    # print(\"S\")\n",
        "    for n in colsn:\n",
        "        y = res[g][n]\n",
        "        # print(\"YESS\",y)\n",
        "        if y != 0:\n",
        "            pass\n",
        "            # print (y,)\n",
        "        cost += y * costs1[g][n]\n",
        "        # print (\"  \",)\n",
        "    # print(\" \")\n",
        "\n",
        "#costs_n.append(cost)"
      ],
      "metadata": {
        "id": "uKRmIBQASXt7"
      },
      "execution_count": 4,
      "outputs": []
    },
    {
      "cell_type": "code",
      "source": [
        "cost"
      ],
      "metadata": {
        "colab": {
          "base_uri": "https://localhost:8080/"
        },
        "id": "9mR8eUVYRm9m",
        "outputId": "31e34938-e2ce-42ce-c781-fe5adf41c30f"
      },
      "execution_count": 5,
      "outputs": [
        {
          "output_type": "execute_result",
          "data": {
            "text/plain": [
              "611165.9684775582"
            ]
          },
          "metadata": {},
          "execution_count": 5
        }
      ]
    },
    {
      "cell_type": "code",
      "source": [],
      "metadata": {
        "id": "ED7MVovtSZWY"
      },
      "execution_count": null,
      "outputs": []
    }
  ]
}