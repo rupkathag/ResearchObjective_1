{
  "cells": [
    {
      "cell_type": "code",
      "execution_count": null,
      "id": "0baf6f25",
      "metadata": {
        "scrolled": true,
        "id": "0baf6f25"
      },
      "outputs": [],
      "source": [
        "import timeit\n",
        "start = timeit.default_timer()\n",
        "\n",
        "import pandas as pd\n",
        "import numpy as np\n",
        "import random\n",
        "import copy\n",
        "import math\n",
        "from collections import defaultdict\n",
        "\n",
        "randomlist = []\n",
        "df_demand = {}\n",
        "random.seed(4) # Use the same random seed\n",
        "for i in range(0,20):   # 20 depots\n",
        "    n = random.randint(50,150) # Depot Capacity\n",
        "    randomlist.append(n)\n",
        "\n",
        "for i in range(20):\n",
        "    df_demand['D'+str(i+1)] = randomlist[i]\n",
        "\n",
        "sum = 0\n",
        "for (k,v) in df_demand.items():\n",
        "    sum = sum + v\n",
        "\n",
        "df_supply = {}\n",
        "for i in range(sum):\n",
        "    df_supply[i] = 1.0\n",
        "\n",
        "np.random.seed(4) # Use the same random seed\n",
        "df_dkm = pd.DataFrame(np.random.uniform(0.5,20, size=(sum,20))).astype(float)\n",
        "\n",
        "random.seed(4) # Use the same random seed\n",
        "age_b = []\n",
        "for i in range(sum):\n",
        "    n = random.randint(1,3) #Only to generate integer values inclusive of 1 & 3\n",
        "    age_b.append(n)\n",
        "\n",
        "age = {}\n",
        "for i in range(len(age_b)):\n",
        "    age[i] = age_b[i]\n",
        "\n",
        "kpl = []\n",
        "co2 = []\n",
        "random.seed(4) # Use the same random seed\n",
        "for (k,v) in age.items():\n",
        "    if (v==1):\n",
        "        n = random.uniform(5.1,6)\n",
        "        m = round(random.uniform(515, 524), 2)\n",
        "        kpl.append(n)\n",
        "        co2.append(m)\n",
        "    if (v==2):\n",
        "        n = random.uniform(4.1,5)\n",
        "        m = round(random.uniform(525, 534), 2)\n",
        "        kpl.append(n)\n",
        "        co2.append(m)\n",
        "    if (v==3):\n",
        "        n = random.uniform(3.1,4)\n",
        "        m = round(random.uniform(535, 540), 2)\n",
        "        kpl.append(n)\n",
        "        co2.append(m)\n",
        "\n",
        "fc_kpl = {}\n",
        "for i in range(sum):\n",
        "    fc_kpl[i] =(111/ kpl[i])\n",
        "\n",
        "co2_c = {}\n",
        "for i in range(sum):\n",
        "    co2_c[i] =(0.00118642*co2[i])\n",
        "\n",
        "random.seed(4) # Use the same random seed\n",
        "doc = {}\n",
        "for i in range(0,20):\n",
        "    n = random.uniform(50,100)\n",
        "    doc[i] = n\n",
        "\n",
        "df_tdkom = pd.DataFrame(np.zeros(df_dkm.shape))\n",
        "for i in range(len(df_dkm.columns)):\n",
        "    for j in range(len(df_dkm.index)):\n",
        "        df_tdkom[i][j] = df_dkm[i][j]*fc_kpl[j] + df_dkm[i][j]*co2_c[j] + doc[i]"
      ]
    },
    {
      "cell_type": "code",
      "execution_count": null,
      "id": "455f3ac8",
      "metadata": {
        "id": "455f3ac8"
      },
      "outputs": [],
      "source": [
        "df_tdkom.columns = [(\"D\"+str(i)) for i in range(1,21)]\n",
        "dk = df_tdkom.transpose()\n",
        "costs_t = dk.to_dict()\n",
        "#costs_t\n",
        "\n",
        "costs1=copy.deepcopy(costs_t)\n",
        "cols = sorted(df_demand.keys())"
      ]
    },
    {
      "cell_type": "code",
      "source": [
        "# print(df_supply['S1'])\n",
        "# break\n",
        "costs2=copy.deepcopy(costs_t)\n",
        "costs3=copy.deepcopy(costs_t)\n",
        "for i in df_supply:\n",
        "    mi=min(costs_t[i].values())\n",
        "    # print(costs_t[i])\n",
        "    # print(mi)\n",
        "    for j in costs2[i]:\n",
        "        costs2[i][j]-=mi\n",
        "# print(costs2)\n",
        "for i in df_demand :\n",
        "    mi=10000\n",
        "    for j in df_supply:\n",
        "        if costs_t[j][i]<mi :\n",
        "            mi=costs_t[j][i]\n",
        "    for j in df_supply:\n",
        "        costs3[j][i]=costs3[j][i]-mi\n",
        "# print(costs3)\n",
        "\n",
        "for i in df_demand:\n",
        "    for j in df_supply:\n",
        "        costs_t[j][i]= costs2[j][i]+costs3[j][i]"
      ],
      "metadata": {
        "id": "b_5Zx2SjpSx2"
      },
      "id": "b_5Zx2SjpSx2",
      "execution_count": null,
      "outputs": []
    },
    {
      "cell_type": "code",
      "execution_count": null,
      "id": "0a690180",
      "metadata": {
        "id": "0a690180"
      },
      "outputs": [],
      "source": [
        "for i in df_supply:\n",
        "    for j in df_demand:\n",
        "        costs_t[i][j] = costs_t[i][j]*min(df_supply[i],df_demand[j])"
      ]
    },
    {
      "cell_type": "code",
      "execution_count": null,
      "id": "ac9a27d5",
      "metadata": {
        "id": "ac9a27d5"
      },
      "outputs": [],
      "source": [
        "res = dict((k, defaultdict(int)) for k in costs_t)"
      ]
    },
    {
      "cell_type": "code",
      "execution_count": null,
      "id": "95a01e2d",
      "metadata": {
        "id": "95a01e2d"
      },
      "outputs": [],
      "source": [
        "while (costs_t):\n",
        "    sub_dict = {}\n",
        "    min_value_n = 10000\n",
        "    for i in df_supply:\n",
        "        sub_dict = costs_t[i]\n",
        "        #print(sub_dict)\n",
        "        min_value, min_key = min((value, key) for key, value in sub_dict.items())\n",
        "        #print(min_value, min_key)\n",
        "        if min_value <= min_value_n:\n",
        "            #print(min_value, min_value_n)\n",
        "            min_value_n = min_value\n",
        "            min_key_n = min_key\n",
        "            sub_key = i\n",
        "            continue\n",
        "        #else:\n",
        "        #    break\n",
        "\n",
        "\n",
        "    #print(sub_key, min_key_n, min_value_n)\n",
        "\n",
        "    res[sub_key][min_key_n] = min(df_supply[sub_key],df_demand[min_key_n])\n",
        "    df_demand[min_key_n]-= res[sub_key][min_key_n]\n",
        "    df_supply[sub_key]-= res[sub_key][min_key_n]\n",
        "\n",
        "    if df_demand[min_key_n] == 0:\n",
        "        del df_demand[min_key_n]\n",
        "        for i in df_supply:\n",
        "            del costs_t[i][min_key_n]\n",
        "\n",
        "    if df_supply[sub_key] == 0:\n",
        "        del df_supply[sub_key]\n",
        "        del costs_t[sub_key]"
      ]
    },
    {
      "cell_type": "code",
      "execution_count": null,
      "id": "12844755",
      "metadata": {
        "id": "12844755"
      },
      "outputs": [],
      "source": [
        "df_supply"
      ]
    },
    {
      "cell_type": "code",
      "execution_count": null,
      "id": "0f1f1340",
      "metadata": {
        "id": "0f1f1340"
      },
      "outputs": [],
      "source": [
        "cost = 0\n",
        "for g in sorted(costs1):\n",
        "    # print (g, \"\\t\",)\n",
        "    for n in cols:\n",
        "        y = res[g][n]\n",
        "        if y != 0:\n",
        "            pass\n",
        "            # print (y,)\n",
        "        cost += y * costs1[g][n]\n",
        "        # print (\"\\t\",)\n",
        "    # print()\n",
        "print (\"\\n\\nTotal Cost = \", cost)"
      ]
    }
  ],
  "metadata": {
    "kernelspec": {
      "display_name": "Python 3 (ipykernel)",
      "language": "python",
      "name": "python3"
    },
    "language_info": {
      "codemirror_mode": {
        "name": "ipython",
        "version": 3
      },
      "file_extension": ".py",
      "mimetype": "text/x-python",
      "name": "python",
      "nbconvert_exporter": "python",
      "pygments_lexer": "ipython3",
      "version": "3.9.7"
    },
    "colab": {
      "provenance": []
    }
  },
  "nbformat": 4,
  "nbformat_minor": 5
}