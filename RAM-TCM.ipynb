{
 "cells": [
  {
   "cell_type": "code",
   "execution_count": 1,
   "id": "83f4d815",
   "metadata": {
    "id": "83f4d815"
   },
   "outputs": [],
   "source": [
    "#WPCM1 on Total Dead Kilometers Cost Matrix\n",
    "#import timeit\n",
    "#start = timeit.default_timer()\n",
    "# All the program statements\n",
    "\n",
    "from collections import defaultdict  # Defaultdict never raises a Key Error\n",
    "import pandas as pd\n",
    "import numpy as np\n",
    "import random\n",
    "import copy\n",
    "import math\n",
    "\n",
    "randomlist = []\n",
    "demand = {}\n",
    "random.seed(2) # Use the same random seed\n",
    "for i in range(0,20):   # 20 depots\n",
    "    n = random.randint(50,150) # Depot Capacity\n",
    "    randomlist.append(n)\n",
    "\n",
    "for i in range(20):\n",
    "    demand[\"D\"+str(i+1)] = randomlist[i]\n",
    "\n",
    "sum = 0\n",
    "for (k,v) in demand.items():\n",
    "    sum = sum + v\n",
    "\n",
    "supply = {}\n",
    "for i in range(sum):\n",
    "    supply[i] = 1.0\n",
    "\n",
    "np.random.seed(2) # Use the same random seed\n",
    "df_dkm = pd.DataFrame(np.random.uniform(0.5,20, size=(sum,20))).astype(float)\n",
    "\n",
    "random.seed(2) # Use the same random seed\n",
    "age_b = []\n",
    "for i in range(sum):\n",
    "    n = random.randint(1,3) #Only to generate integer values inclusive of 1 & 3\n",
    "    age_b.append(n)\n",
    "\n",
    "age = {}\n",
    "for i in range(len(age_b)):\n",
    "    age[i] = age_b[i]\n",
    "\n",
    "kpl = []\n",
    "co2 = []\n",
    "random.seed(2) # Use the same random seed\n",
    "for (k,v) in age.items():\n",
    "    if (v==1):\n",
    "        n = random.uniform(5.1,6)\n",
    "        m = round(random.uniform(515, 524), 2)\n",
    "        kpl.append(n)\n",
    "        co2.append(m)\n",
    "    if (v==2):\n",
    "        n = random.uniform(4.1,5)\n",
    "        m = round(random.uniform(525, 534), 2)\n",
    "        kpl.append(n)\n",
    "        co2.append(m)\n",
    "    if (v==3):\n",
    "        n = random.uniform(3.1,4)\n",
    "        m = round(random.uniform(535, 540), 2)\n",
    "        kpl.append(n)\n",
    "        co2.append(m)\n",
    "\n",
    "fc_kpl = {}\n",
    "for i in range(sum):\n",
    "    fc_kpl[i] =(111/ kpl[i])\n",
    "\n",
    "co2_c = {}\n",
    "for i in range(sum):\n",
    "    co2_c[i] =(0.00118642*co2[i])\n",
    "\n",
    "random.seed(2) # Use the same random seed\n",
    "doc = {}\n",
    "for i in range(0,20):\n",
    "    n = random.uniform(50,100)\n",
    "    doc[i] = n\n",
    "\n",
    "df_tdkom = pd.DataFrame(np.zeros(df_dkm.shape))\n",
    "for i in range(len(df_dkm.columns)):\n",
    "    for j in range(len(df_dkm.index)):\n",
    "        df_tdkom[i][j] = df_dkm[i][j]*fc_kpl[j] + df_dkm[i][j]*co2_c[j] + doc[i]\n",
    "#df_tdkom\n",
    "df_cost = df_tdkom.copy(deep=True)\n",
    "\n",
    "#df_tdkom.columns = [(\"D\"+str(i)) for i in range(1,4)]\n",
    "df_result = pd.DataFrame(np.zeros(df_tdkom.shape))"
   ]
  },
  {
   "cell_type": "code",
   "execution_count": 2,
   "id": "bc70f51f",
   "metadata": {
    "colab": {
     "base_uri": "https://localhost:8080/"
    },
    "id": "bc70f51f",
    "outputId": "894cec3d-aab8-477c-d5fc-0ccfcd5ecf57"
   },
   "outputs": [],
   "source": [
    "df_tdkom.columns = [(\"D\"+str(i)) for i in range(1,21)]\n",
    "dk = df_tdkom.transpose()\n",
    "costs = dk.to_dict()\n",
    "\n",
    "#costs"
   ]
  },
  {
   "cell_type": "code",
   "execution_count": 3,
   "id": "13c370d6",
   "metadata": {
    "colab": {
     "base_uri": "https://localhost:8080/"
    },
    "id": "13c370d6",
    "outputId": "31ca3fec-0943-4934-aacc-612f839f8533",
    "scrolled": true
   },
   "outputs": [],
   "source": [
    "g = {}\n",
    "for x in supply:\n",
    "    g[x] = sorted(costs[x].keys(), key=lambda g: costs[x][g], reverse=True)\n",
    "for y in demand:\n",
    "#     print(x)\n",
    "    g[y] = sorted(costs.keys(), key=lambda g: costs[g][y] , reverse=True)"
   ]
  },
  {
   "cell_type": "code",
   "execution_count": 4,
   "id": "KfoHPqDEzmhd",
   "metadata": {
    "id": "KfoHPqDEzmhd"
   },
   "outputs": [],
   "source": [
    "\n",
    "computed = {}\n",
    "\n",
    "for x in supply:\n",
    "    computed[x]={}\n",
    "    for y in demand:\n",
    "        computed[x][y]= - (costs[x][y] - costs[x][g[x][0]] - costs[g[y][0]][y])\n"
   ]
  },
  {
   "cell_type": "code",
   "execution_count": 5,
   "id": "4JqYcEb18nWN",
   "metadata": {
    "colab": {
     "base_uri": "https://localhost:8080/"
    },
    "id": "4JqYcEb18nWN",
    "outputId": "04f1ce70-aeee-4693-f17c-b172ff185ea6"
   },
   "outputs": [],
   "source": [
    "\n",
    "max_computed = {}\n",
    "for x in supply:\n",
    "    max_computed[x] = sorted(computed[x].keys(), key=lambda g: computed[x][g], reverse=True)\n",
    "# for y in demand:\n",
    "# #     print(x)\n",
    "#     max_computed[y] = sorted(computed.keys(), key=lambda g: computed[g][y], reverse=True)\n",
    "\n",
    "#print(g)\n",
    "#print(computed)\n",
    "#print(max_computed)\n",
    "\n",
    "res = dict((k, defaultdict(int)) for k in costs)\n"
   ]
  },
  {
   "cell_type": "code",
   "execution_count": 6,
   "id": "bac4e0b0",
   "metadata": {},
   "outputs": [],
   "source": [
    "while g:\n",
    "    \n",
    "    old_d = \"D\"\n",
    "    old_s = \"S\"\n",
    "    \n",
    "    ### Beginning of a loop\n",
    "    # cleaning\n",
    "    old_max = 0\n",
    "    for x in supply:\n",
    "        if computed[x][max_computed[x][0]] > old_max:\n",
    "            #print(computed[x][max_computed[x][0]])\n",
    "            old_max = computed[x][max_computed[x][0]]\n",
    "            old_d = max_computed[x][0]\n",
    "            old_s = x\n",
    "\n",
    "    #print(old_max)\n",
    "    #print(old_d)\n",
    "    #print(old_s)\n",
    "\n",
    "    # added to results matrix\n",
    "\n",
    "    res[old_s][old_d] += 1\n",
    "\n",
    "    demand[old_d] -= 1\n",
    "    supply[old_s] -= 1\n",
    "\n",
    "    \n",
    "    ### Simultaneously ensures whether supply/demand gets cut\n",
    "    if supply[old_s] == 0:\n",
    "        for y in demand:\n",
    "            if g[y][0] == old_s:\n",
    "                for x in supply:\n",
    "                    if len(g[y])>1:\n",
    "                        computed[x][y] = computed[x][y] - costs[g[y][0]][y] + costs[g[y][1]][y]\n",
    "\n",
    "\n",
    "    if demand[old_d] == 0:\n",
    "        for x in supply:\n",
    "            #go through all demand points within this supply and update computed cost\n",
    "            if g[x][0] == old_d:\n",
    "                for y in demand:\n",
    "                    if len(g[x])>1:\n",
    "                        computed[x][y] = computed[x][y] - costs[x][g[x][0]] + costs[x][g[x][1]]\n",
    "\n",
    "    if supply[old_s] == 0:\n",
    "        del g[old_s]\n",
    "        del supply[old_s]\n",
    "        del computed[old_s]\n",
    "        #del max_computed[old_s]\n",
    "        for k, n in demand.items():\n",
    "            #if n == 0:\n",
    "            g[k].remove(old_s)\n",
    "            #max_computed[k].remove(old_s)\n",
    "\n",
    "    if demand[old_d] == 0:\n",
    "        del g[old_d]\n",
    "        del demand[old_d]\n",
    "        for k, n in supply.items():\n",
    "            g[k].remove(old_d)\n",
    "          # print(\"removing\" + str(k) + \"and\" + str(old_d))\n",
    "            #max_computed[k].remove(old_d)\n",
    "            del computed[k][old_d]\n",
    "          # print(max_computed[k])\n",
    "        \n",
    "    max_computed = {}\n",
    "    for x in supply:\n",
    "        max_computed[x] = sorted(computed[x].keys(), key=lambda g: computed[x][g], reverse=True)"
   ]
  },
  {
   "cell_type": "code",
   "execution_count": 7,
   "id": "0ab9ca10",
   "metadata": {
    "colab": {
     "base_uri": "https://localhost:8080/"
    },
    "id": "tO8mPoQAuS0G",
    "outputId": "6cdf364c-b6df-4c79-b0f4-3a77034b736f"
   },
   "outputs": [
    {
     "name": "stdout",
     "output_type": "stream",
     "text": [
      "cost = 255962.30970886414\n"
     ]
    }
   ],
   "source": [
    "cost = 0\n",
    "#print(costs)\n",
    "for x in costs.keys():\n",
    "    for y in costs[x].keys():\n",
    "        cost += costs[x][y] * res[x][y]\n",
    "\n",
    "print(\"cost = \" + str(cost))"
   ]
  },
  {
   "cell_type": "markdown",
   "id": "3f69bbee",
   "metadata": {
    "id": "3f69bbee"
   },
   "source": [
    "stop = timeit.default_timer()\n",
    "execution_time = stop - start\n",
    "\n",
    "print(\"Program Executed in \"+str(execution_time))"
   ]
  },
  {
   "cell_type": "code",
   "execution_count": null,
   "id": "m8TbXd5JlGRi",
   "metadata": {
    "id": "m8TbXd5JlGRi"
   },
   "outputs": [],
   "source": []
  }
 ],
 "metadata": {
  "colab": {
   "provenance": []
  },
  "kernelspec": {
   "display_name": "Python 3 (ipykernel)",
   "language": "python",
   "name": "python3"
  },
  "language_info": {
   "codemirror_mode": {
    "name": "ipython",
    "version": 3
   },
   "file_extension": ".py",
   "mimetype": "text/x-python",
   "name": "python",
   "nbconvert_exporter": "python",
   "pygments_lexer": "ipython3",
   "version": "3.9.7"
  }
 },
 "nbformat": 4,
 "nbformat_minor": 5
}
