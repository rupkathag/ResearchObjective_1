{
  "cells": [
    {
      "cell_type": "code",
      "execution_count": 34,
      "metadata": {
        "id": "KrnySXmRpf1S"
      },
      "outputs": [],
      "source": [
        "import pandas as pd\n",
        "import numpy as np\n",
        "import random\n",
        "import copy\n",
        "import math\n",
        "from collections import defaultdict\n",
        "\n",
        "randomlist = []\n",
        "demand = {}\n",
        "random.seed(4) # Use the same random seed\n",
        "for i in range(0,20):   # 20 depots\n",
        "    n = random.randint(50,150) # Depot Capacity\n",
        "    randomlist.append(n)\n",
        "\n",
        "for i in range(20):\n",
        "    demand['D'+str(i+1)] = randomlist[i]\n",
        "\n",
        "sum = 0\n",
        "for (k,v) in demand.items():\n",
        "    sum = sum + v\n",
        "\n",
        "supply = {}\n",
        "for i in range(sum):\n",
        "    supply[i] = 1.0\n",
        "\n",
        "np.random.seed(4) # Use the same random seed\n",
        "df_dkm = pd.DataFrame(np.random.uniform(0.5,20, size=(sum,20))).astype(float)\n",
        "\n",
        "random.seed(4) # Use the same random seed\n",
        "age_b = []\n",
        "for i in range(sum):\n",
        "    n = random.randint(1,3) #Only to generate integer values inclusive of 1 & 3\n",
        "    age_b.append(n)\n",
        "\n",
        "age = {}\n",
        "for i in range(len(age_b)):\n",
        "    age[i] = age_b[i]\n",
        "\n",
        "kpl = []\n",
        "co2 = []\n",
        "random.seed(4) # Use the same random seed\n",
        "for (k,v) in age.items():\n",
        "    if (v==1):\n",
        "        n = random.uniform(5.1,6)\n",
        "        m = round(random.uniform(515, 524), 2)\n",
        "        kpl.append(n)\n",
        "        co2.append(m)\n",
        "    if (v==2):\n",
        "        n = random.uniform(4.1,5)\n",
        "        m = round(random.uniform(525, 534), 2)\n",
        "        kpl.append(n)\n",
        "        co2.append(m)\n",
        "    if (v==3):\n",
        "        n = random.uniform(3.1,4)\n",
        "        m = round(random.uniform(535, 540), 2)\n",
        "        kpl.append(n)\n",
        "        co2.append(m)\n",
        "\n",
        "fc_kpl = {}\n",
        "for i in range(sum):\n",
        "    fc_kpl[i] =(111/ kpl[i])\n",
        "\n",
        "co2_c = {}\n",
        "for i in range(sum):\n",
        "    co2_c[i] =(0.00118642*co2[i])\n",
        "\n",
        "random.seed(4) # Use the same random seed\n",
        "doc = {}\n",
        "for i in range(0,20):\n",
        "    n = random.uniform(50,100)\n",
        "    doc[i] = n\n",
        "\n",
        "df_tdkom = pd.DataFrame(np.zeros(df_dkm.shape))\n",
        "for i in range(len(df_dkm.columns)):\n",
        "    for j in range(len(df_dkm.index)):\n",
        "        df_tdkom[i][j] = df_dkm[i][j]*fc_kpl[j] + df_dkm[i][j]*co2_c[j] + doc[i]\n",
        "#df_tdkom\n",
        "df_tdkom.columns = [(\"D\"+str(i)) for i in range(1,21)]\n",
        "dk = df_tdkom.transpose()\n",
        "costs = dk.to_dict()\n",
        "\n",
        "demand_s = demand.copy()\n",
        "supply_s = supply.copy()\n",
        "cold = sorted(demand.keys())\n",
        "cols = sorted(demand.keys())"
      ]
    },
    {
      "cell_type": "code",
      "execution_count": 35,
      "metadata": {
        "id": "g_I87LRxpiFa"
      },
      "outputs": [],
      "source": [
        "costs1=copy.deepcopy(costs)\n",
        "costs2=copy.deepcopy(costs)\n",
        "costs3=copy.deepcopy(costs)\n",
        "costs4=copy.deepcopy(costs)\n",
        "\n",
        "for i in supply:\n",
        "    mi=min(costs[i].values())\n",
        "    #print(costs[i])\n",
        "    # print(mi)\n",
        "    for j in costs2[i]:\n",
        "        costs2[i][j]-=mi\n",
        "# print(costs2)\n",
        "for i in demand :\n",
        "    mi=10000\n",
        "    for j in supply:\n",
        "        if costs[j][i]<mi :\n",
        "            mi=costs[j][i]\n",
        "    for j in supply:\n",
        "        costs3[j][i]=costs3[j][i]-mi\n",
        "# print(costs3)\n",
        "\n",
        "for i in demand:\n",
        "    for j in supply:\n",
        "        costs[j][i]= costs2[j][i]+costs3[j][i]\n",
        "\n",
        "costs5=copy.deepcopy(costs)\n",
        "costs6=copy.deepcopy(costs)\n",
        "\n",
        "\n",
        "ma=0"
      ]
    },
    {
      "cell_type": "code",
      "execution_count": 36,
      "metadata": {
        "id": "MpMEQaUs3Ddx"
      },
      "outputs": [],
      "source": [
        "### Weighted Transportation Matrix by Demand (wcd)\n",
        "\n",
        "res = dict((k, defaultdict(int)) for k in costs5)\n",
        "rij={}\n",
        "for x in supply:\n",
        "    dd={}\n",
        "    for y in demand:\n",
        "        dd[y]=0\n",
        "    rij[x]=dd\n",
        "\n",
        "# Proportional Demand Matrix\n",
        "for x in supply:\n",
        "    for y in demand:\n",
        "        rij[x][y]= demand[y]/supply[x]\n",
        "\n",
        "# print(rij)\n",
        "for x in supply:\n",
        "    for y in demand:\n",
        "        rij[x][y]*=costs5[x][y]\n"
      ]
    },
    {
      "cell_type": "code",
      "execution_count": 37,
      "metadata": {
        "id": "39NsZugAharn"
      },
      "outputs": [],
      "source": [
        "while supply or demand:\n",
        "    mi=10000000000000\n",
        "    l=[]\n",
        "    for x in supply:\n",
        "        for y in demand:\n",
        "            if rij[x][y]<mi:\n",
        "                mi=rij[x][y]\n",
        "                l=[x,y]\n",
        "\n",
        "    sup=l[0]\n",
        "    dem=l[1]\n",
        "    v=min(supply[sup],demand[dem])\n",
        "    demand[dem]-=v\n",
        "    supply[sup]-=v\n",
        "    res[sup][dem]+=v\n",
        "    if supply[sup]==0:\n",
        "        del supply[sup]\n",
        "    if demand[dem]==0:\n",
        "        del demand[dem]\n",
        "\n",
        "\n",
        "#print(demand,supply)\n"
      ]
    },
    {
      "cell_type": "code",
      "execution_count": 38,
      "metadata": {
        "id": "A3EBNqi14OIn"
      },
      "outputs": [],
      "source": [
        "cost_d = 0\n",
        "for g in sorted(costs4):\n",
        "  # print (g, \"\\t\",)\n",
        "  for n in cold:\n",
        "    y = res[g][n]\n",
        "    if y != 0:\n",
        "        pass\n",
        "      # print (y,)\n",
        "    cost_d += y * costs4[g][n]\n",
        "    # print (\"\\t\",)\n",
        "  # print()\n",
        "# print (\"\\n\\nTotal Cost = \", cost)"
      ]
    },
    {
      "cell_type": "code",
      "execution_count": 39,
      "metadata": {
        "colab": {
          "base_uri": "https://localhost:8080/"
        },
        "id": "4XSmvXiCWRXn",
        "outputId": "e269ad82-1737-4641-cb27-fa404c66bf84"
      },
      "outputs": [
        {
          "output_type": "execute_result",
          "data": {
            "text/plain": [
              "218113.76365580858"
            ]
          },
          "metadata": {},
          "execution_count": 39
        }
      ],
      "source": [
        "cost_d"
      ]
    },
    {
      "cell_type": "code",
      "execution_count": 40,
      "metadata": {
        "id": "sgkZhg3V17rp"
      },
      "outputs": [],
      "source": [
        "### Weighted Transportation Matrix by Supply (wcd)\n",
        "\n",
        "res_s = dict((k, defaultdict(int)) for k in costs6)\n",
        "rij_s={}\n",
        "for x in supply_s:\n",
        "    dd={}\n",
        "    for y in demand_s:\n",
        "        dd[y]=0\n",
        "    rij_s[x]=dd\n",
        "\n",
        "for x in supply_s:\n",
        "    for y in demand_s:\n",
        "        rij_s[x][y]= supply_s[x]/demand_s[y]\n",
        "# print(rij)\n",
        "for x in supply_s:\n",
        "    for y in demand_s:\n",
        "        rij_s[x][y]*=costs6[x][y]"
      ]
    },
    {
      "cell_type": "code",
      "execution_count": 41,
      "metadata": {
        "id": "h_vo7UrNBN7x"
      },
      "outputs": [],
      "source": [
        "while supply_s or demand_s:\n",
        "    mi=10000000000000\n",
        "    ls=[]\n",
        "    for x in supply_s:\n",
        "        for y in demand_s:\n",
        "            if rij_s[x][y]<mi:\n",
        "                mi=rij_s[x][y]\n",
        "                ls=[x,y]\n",
        "\n",
        "    sup_s=ls[0]\n",
        "    dem_s=ls[1]\n",
        "    v1=min(supply_s[sup_s],demand_s[dem_s])\n",
        "    demand_s[dem_s]-=v1\n",
        "    supply_s[sup_s]-=v1\n",
        "    res_s[sup_s][dem_s]+=v1\n",
        "    if supply_s[sup_s]==0:\n",
        "        del supply_s[sup_s]\n",
        "    if demand_s[dem_s]==0:\n",
        "        del demand_s[dem_s]\n",
        "\n",
        "#print(demand_s,supply_s)"
      ]
    },
    {
      "cell_type": "code",
      "execution_count": 42,
      "metadata": {
        "id": "6CPZcAxFBN7y"
      },
      "outputs": [],
      "source": [
        "cost_s = 0\n",
        "for g in sorted(costs4):\n",
        "  # print (g, \"\\t\",)\n",
        "  for n in cols:\n",
        "    y = res_s[g][n]\n",
        "    if y != 0:\n",
        "        pass\n",
        "      # print (y,)\n",
        "    cost_s += y * costs4[g][n]\n",
        "    # print (\"\\t\",)\n",
        "  # print()\n",
        "# print (\"\\n\\nTotal Cost = \", cost)"
      ]
    },
    {
      "cell_type": "code",
      "execution_count": 43,
      "metadata": {
        "id": "_7MOd7xz2RRt",
        "colab": {
          "base_uri": "https://localhost:8080/"
        },
        "outputId": "78adccbf-96da-4e0e-e61b-5c5f925b3f78"
      },
      "outputs": [
        {
          "output_type": "execute_result",
          "data": {
            "text/plain": [
              "211555.95188496594"
            ]
          },
          "metadata": {},
          "execution_count": 43
        }
      ],
      "source": [
        "cost_s"
      ]
    },
    {
      "cell_type": "code",
      "execution_count": 44,
      "metadata": {
        "id": "l8RbCDtF2SMP",
        "colab": {
          "base_uri": "https://localhost:8080/"
        },
        "outputId": "b84121cc-46e0-4294-9ce0-c75f4b4d2d44"
      },
      "outputs": [
        {
          "output_type": "execute_result",
          "data": {
            "text/plain": [
              "211555.95188496594"
            ]
          },
          "metadata": {},
          "execution_count": 44
        }
      ],
      "source": [
        "min(cost_d,cost_s)"
      ]
    }
  ],
  "metadata": {
    "colab": {
      "provenance": []
    },
    "kernelspec": {
      "display_name": "Python 3 (ipykernel)",
      "language": "python",
      "name": "python3"
    },
    "language_info": {
      "codemirror_mode": {
        "name": "ipython",
        "version": 3
      },
      "file_extension": ".py",
      "mimetype": "text/x-python",
      "name": "python",
      "nbconvert_exporter": "python",
      "pygments_lexer": "ipython3",
      "version": "3.9.7"
    }
  },
  "nbformat": 4,
  "nbformat_minor": 0
}