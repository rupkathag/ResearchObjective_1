{
  "nbformat": 4,
  "nbformat_minor": 0,
  "metadata": {
    "colab": {
      "provenance": []
    },
    "kernelspec": {
      "name": "python3",
      "display_name": "Python 3"
    },
    "language_info": {
      "name": "python"
    }
  },
  "cells": [
    {
      "cell_type": "code",
      "execution_count": 1,
      "metadata": {
        "id": "HpUnlkyiNIUb"
      },
      "outputs": [],
      "source": [
        "import pandas as pd\n",
        "import scipy\n",
        "import numpy as np\n",
        "import random\n",
        "import copy\n",
        "import math\n",
        "from collections import defaultdict\n",
        "\n",
        "\n",
        "#import timeit\n",
        "#start = timeit.default_timer()\n",
        "\n",
        "randomlist = []\n",
        "demand = {}\n",
        "random.seed(26) # Use the same random seed\n",
        "for i in range(0,30):   # 20 depots\n",
        "    n = random.randint(100,250) # Depot Capacity\n",
        "    randomlist.append(n)\n",
        "\n",
        "for i in range(30):\n",
        "    demand[\"D\"+str(i+1)] = randomlist[i]\n",
        "\n",
        "sum = 0\n",
        "for (k,v) in demand.items():\n",
        "    sum = sum + v\n",
        "\n",
        "supply = {}\n",
        "for i in range(sum):\n",
        "    supply[i] = 1.0\n",
        "\n",
        "np.random.seed(26) # Use the same random seed\n",
        "df_dkm = pd.DataFrame(np.random.uniform(0.5,60, size=(sum,30))).astype(float)\n",
        "\n",
        "random.seed(26) # Use the same random seed\n",
        "age_b = []\n",
        "for i in range(sum):\n",
        "    n = random.randint(1,3) #Only to generate integer values inclusive of 1 & 3\n",
        "    age_b.append(n)\n",
        "\n",
        "age = {}\n",
        "for i in range(len(age_b)):\n",
        "    age[i] = age_b[i]\n",
        "\n",
        "kpl = []\n",
        "co2 = []\n",
        "random.seed(26) # Use the same random seed\n",
        "for (k,v) in age.items():\n",
        "    if (v==1):\n",
        "        n = random.uniform(5.1,6)\n",
        "        m = round(random.uniform(515, 524), 2)\n",
        "        kpl.append(n)\n",
        "        co2.append(m)\n",
        "    if (v==2):\n",
        "        n = random.uniform(4.1,5)\n",
        "        m = round(random.uniform(525, 534), 2)\n",
        "        kpl.append(n)\n",
        "        co2.append(m)\n",
        "    if (v==3):\n",
        "        n = random.uniform(3.1,4)\n",
        "        m = round(random.uniform(535, 540), 2)\n",
        "        kpl.append(n)\n",
        "        co2.append(m)\n",
        "\n",
        "fc_kpl = {}\n",
        "for i in range(sum):\n",
        "    fc_kpl[i] =(111/ kpl[i])\n",
        "\n",
        "co2_c = {}\n",
        "for i in range(sum):\n",
        "    co2_c[i] =(0.00118642*co2[i])\n",
        "\n",
        "random.seed(26) # Use the same random seed\n",
        "doc = {}\n",
        "for i in range(0,30):\n",
        "    n = random.uniform(50,100)\n",
        "    doc[i] = n\n",
        "\n",
        "df_tdkom = pd.DataFrame(np.zeros(df_dkm.shape))\n",
        "for i in range(len(df_dkm.columns)):\n",
        "    for j in range(len(df_dkm.index)):\n",
        "        df_tdkom[i][j] = df_dkm[i][j]*fc_kpl[j] + df_dkm[i][j]*co2_c[j] + doc[i]\n",
        "#df_tdkom\n",
        "df_tdkom.columns = [(\"D\"+str(i)) for i in range(1,31)]\n",
        "dk = df_tdkom.transpose()\n",
        "costs = dk.to_dict()\n",
        "#costs_c = df_tdkom.to_dict()\n",
        "cols = sorted(demand.keys())"
      ]
    },
    {
      "cell_type": "code",
      "source": [
        "costs1=copy.deepcopy(costs)\n",
        "costs2=copy.deepcopy(costs)\n",
        "costs3=copy.deepcopy(costs)\n",
        "\n",
        "for i in supply:\n",
        "    mi=min(costs[i].values())\n",
        "    #print(costs[i])\n",
        "    # print(mi)\n",
        "    for j in costs2[i]:\n",
        "        costs2[i][j]-=mi\n",
        "# print(costs2)\n",
        "for i in demand :\n",
        "    mi=10000\n",
        "    for j in supply:\n",
        "        if costs[j][i]<mi :\n",
        "            mi=costs[j][i]\n",
        "    for j in supply:\n",
        "        costs3[j][i]=costs3[j][i]-mi\n",
        "# print(costs3)\n",
        "\n",
        "for i in demand:\n",
        "    for j in supply:\n",
        "        costs[j][i]= costs2[j][i]+costs3[j][i]\n",
        "\n",
        "res = dict((k, defaultdict(int)) for k in costs)\n",
        "ls=len(supply)\n"
      ],
      "metadata": {
        "id": "lOTfM9WfNRT3"
      },
      "execution_count": 2,
      "outputs": []
    },
    {
      "cell_type": "code",
      "source": [
        "while supply and demand:\n",
        "  sd={}\n",
        "  # print(demand,supply)\n",
        "  for x in demand:\n",
        "      # print(x)\n",
        "      l=[]\n",
        "      # print(len(supply))\n",
        "      for y in supply:\n",
        "          l.append(costs[y][x])\n",
        "      # print(l)\n",
        "      if len(supply)>1:\n",
        "          from scipy import stats\n",
        "          sd[x]=scipy.stats.gmean(l)\n",
        "      else:\n",
        "          sd[x]=(list(supply.values()))[0]\n",
        "\n",
        "  for y in supply :\n",
        "      l=[]\n",
        "      for x in demand:\n",
        "          l.append(costs[y][x])\n",
        "      if len(demand)>1:\n",
        "          from scipy import stats\n",
        "          sd[y]=scipy.stats.gmean(l)\n",
        "      else:\n",
        "          sd[y]=(list(demand.values()))[0]\n",
        "      # sd[y]=stdev(l)\n",
        "  # print(sd)\n",
        "  ma=max(sd.values())\n",
        "  l=[]\n",
        "  for ke in sd:\n",
        "      if sd[ke]==ma:\n",
        "          l.append(ke)\n",
        "  ind=l[0]\n",
        "\n",
        "\n",
        "  if demand.get(ind)!=None:\n",
        "      mi=10000\n",
        "      mind=\"S\"\n",
        "      for y in supply:\n",
        "          if costs[y][ind]<mi:\n",
        "              mi=costs[y][ind]\n",
        "              mind=y\n",
        "      v=min(supply[mind],demand[ind])\n",
        "      supply[mind]-=v\n",
        "      demand[ind]-=v\n",
        "      res[mind][ind]+=v\n",
        "      if supply[mind]==0:\n",
        "          del supply[mind]\n",
        "      if demand[ind]==0:\n",
        "          del demand[ind]\n",
        "  else:\n",
        "      mi=10000\n",
        "      mind=\"S\"\n",
        "      # print(ind)\n",
        "      for y in demand:\n",
        "          # print(ind,y)\n",
        "          if costs[ind][y]<mi:\n",
        "              mi=costs[ind][y]\n",
        "              mind=y\n",
        "      v=min(supply[ind],demand[mind])\n",
        "      supply[ind]-=v\n",
        "      demand[mind]-=v\n",
        "      res[ind][mind]+=v\n",
        "      if supply[ind]==0:\n",
        "          del supply[ind]\n",
        "      if demand[mind]==0:\n",
        "          del demand[mind]\n",
        "\n",
        "  # break"
      ],
      "metadata": {
        "id": "gjebNxonNbnL"
      },
      "execution_count": 3,
      "outputs": []
    },
    {
      "cell_type": "code",
      "source": [
        "cost = 0\n",
        "for g in sorted(costs1):\n",
        "    # print (g, \"\\t\",)\n",
        "    for n in cols:\n",
        "        y = res[g][n]\n",
        "        if y != 0:\n",
        "            pass\n",
        "            # print (y,)\n",
        "        cost += y * costs1[g][n]\n",
        "        # print (\"\\t\",)\n",
        "    # print()\n",
        "# print (\"\\n\\nTotal Cost = \", cost)"
      ],
      "metadata": {
        "id": "Q0qZKkXSNo5h"
      },
      "execution_count": 4,
      "outputs": []
    },
    {
      "cell_type": "code",
      "source": [
        "cost"
      ],
      "metadata": {
        "colab": {
          "base_uri": "https://localhost:8080/"
        },
        "id": "D2Uw13VONsWQ",
        "outputId": "524d85be-c395-4adb-a5a0-bb0c248569b8"
      },
      "execution_count": 5,
      "outputs": [
        {
          "output_type": "execute_result",
          "data": {
            "text/plain": [
              "791719.6550284085"
            ]
          },
          "metadata": {},
          "execution_count": 5
        }
      ]
    },
    {
      "cell_type": "code",
      "source": [],
      "metadata": {
        "id": "5Jx6ax35qz2S"
      },
      "execution_count": null,
      "outputs": []
    }
  ]
}